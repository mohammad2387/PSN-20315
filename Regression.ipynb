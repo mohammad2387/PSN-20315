{
 "cells": [
  {
   "cell_type": "code",
   "execution_count": 17,
   "id": "90538a9e-c28a-4957-886a-0d04ad3617a7",
   "metadata": {},
   "outputs": [],
   "source": [
    "import pandas as pd\n",
    "import seaborn as sns\n",
    "import matplotlib.pyplot as plt\n",
    "from sklearn.model_selection import train_test_split\n",
    "from sklearn.preprocessing import StandardScaler, OneHotEncoder\n",
    "from sklearn.compose import ColumnTransformer\n",
    "from sklearn.linear_model import LogisticRegression\n",
    "from sklearn.metrics import accuracy_score, confusion_matrix, classification_report"
   ]
  },
  {
   "cell_type": "code",
   "execution_count": 18,
   "id": "2a271bfb-350a-40ee-979e-712233083c99",
   "metadata": {},
   "outputs": [],
   "source": [
    "data = pd.read_csv('PSN 20315 Main Cleaned.csv')"
   ]
  },
  {
   "cell_type": "code",
   "execution_count": 19,
   "id": "39353069-76af-4b68-9e0f-84c69a3e3a72",
   "metadata": {},
   "outputs": [],
   "source": [
    "X = data.drop([data.columns[0], data.columns[2]], axis=1)  \n",
    "y = data[data.columns[2]] "
   ]
  },
  {
   "cell_type": "code",
   "execution_count": 20,
   "id": "823fee08-cb4d-4dbe-bee0-4081d40de0fc",
   "metadata": {},
   "outputs": [],
   "source": [
    "categorical_cols = X.select_dtypes(include=['object']).columns\n",
    "\n",
    "\n",
    "preprocessor = ColumnTransformer(\n",
    "    transformers=[\n",
    "        ('num', StandardScaler(), X.select_dtypes(include=['float64', 'int64']).columns),  \n",
    "        ('cat', OneHotEncoder(), categorical_cols)  \n",
    "    ])"
   ]
  },
  {
   "cell_type": "code",
   "execution_count": 21,
   "id": "17cd4671-b3e5-4e8d-9ff0-9e8dd6b3ffdb",
   "metadata": {},
   "outputs": [],
   "source": [
    "X = preprocessor.fit_transform(X)\n",
    "\n",
    "\n",
    "X_train, X_test, y_train, y_test = train_test_split(X, y, test_size=0.2, random_state=42)"
   ]
  },
  {
   "cell_type": "code",
   "execution_count": 22,
   "id": "3b2e74eb-2ac3-440b-9e8d-b14fcc8e2983",
   "metadata": {},
   "outputs": [],
   "source": [
    "model = LogisticRegression()\n",
    "model.fit(X_train, y_train)\n",
    "\n",
    "y_pred = model.predict(X_test)"
   ]
  },
  {
   "cell_type": "code",
   "execution_count": 23,
   "id": "57c4b84d-96ac-4432-a0ce-00139bf0e0cd",
   "metadata": {},
   "outputs": [
    {
     "name": "stdout",
     "output_type": "stream",
     "text": [
      "Accuracy: 1.0\n",
      "Classification Report:\n",
      "               precision    recall  f1-score   support\n",
      "\n",
      "           0       1.00      1.00      1.00         3\n",
      "           1       1.00      1.00      1.00         3\n",
      "\n",
      "    accuracy                           1.00         6\n",
      "   macro avg       1.00      1.00      1.00         6\n",
      "weighted avg       1.00      1.00      1.00         6\n",
      "\n"
     ]
    }
   ],
   "source": [
    "print(\"Accuracy:\", accuracy_score(y_test, y_pred))\n",
    "print(\"Classification Report:\\n\", classification_report(y_test, y_pred))\n",
    "\n",
    "cm = confusion_matrix(y_test, y_pred)"
   ]
  },
  {
   "cell_type": "code",
   "execution_count": 24,
   "id": "fe8f01c1-8323-4277-8fb5-c3d0257f255c",
   "metadata": {},
   "outputs": [
    {
     "data": {
      "image/png": "[encoded data removed]",
      "text/plain": [
       "<Figure size 600x400 with 1 Axes>"
      ]
     },
     "metadata": {},
     "output_type": "display_data"
    }
   ],
   "source": [
    "plt.figure(figsize=(6, 4))\n",
    "sns.heatmap(cm, annot=True, fmt='d', cmap='Blues', cbar=False,\n",
    "            xticklabels=['Not Habitable', 'Habitable'],\n",
    "            yticklabels=['Not Habitable', 'Habitable'])\n",
    "plt.xlabel('Predicted')\n",
    "plt.ylabel('Actual')\n",
    "plt.title('Confusion Matrix')\n",
    "plt.show()\n",
    "\n",
    "test_data = data.iloc[y_test.index].copy()  # Create a copy of the test data to avoid SettingWithCopyWarning\n",
    "test_data.loc[:, 'Predicted_Habitability'] = y_pred  # Add the predicted values using .loc\n",
    "\n",
    "correctly_predicted = test_data[test_data[data.columns[2]] == test_data['Predicted_Habitability']]\n",
    "incorrectly_predicted = test_data[test_data[data.columns[2]] != test_data['Predicted_Habitability']]"
   ]
  },
  {
   "cell_type": "code",
   "execution_count": 25,
   "id": "72f82ea0-0cd0-4df5-b6c2-a5ae36ca6976",
   "metadata": {},
   "outputs": [
    {
     "name": "stdout",
     "output_type": "stream",
     "text": [
      "Correctly predicted planets saved to 'Correctly_Predicted_Planets.csv'\n",
      "Incorrectly predicted planets saved to 'Incorrectly_Predicted_Planets.csv'\n"
     ]
    }
   ],
   "source": [
    "correctly_predicted.to_csv('Correctly_Predicted_Planets.csv', index=False)\n",
    "incorrectly_predicted.to_csv('Incorrectly_Predicted_Planets.csv', index=False)\n",
    "\n",
    "print(\"Correctly predicted planets saved to 'Correctly_Predicted_Planets.csv'\")\n",
    "print(\"Incorrectly predicted planets saved to 'Incorrectly_Predicted_Planets.csv'\")"
   ]
  },
  {
   "cell_type": "markdown",
   "id": "99764497-6b93-411c-a156-feaedc0662ff",
   "metadata": {},
   "source": []
  }
 ],
 "metadata": {
  "kernelspec": {
   "display_name": "Python 3 (ipykernel)",
   "language": "python",
   "name": "python3"
  },
  "language_info": {
   "codemirror_mode": {
    "name": "ipython",
    "version": 3
   },
   "file_extension": ".py",
   "mimetype": "text/x-python",
   "name": "python",
   "nbconvert_exporter": "python",
   "pygments_lexer": "ipython3",
   "version": "3.13.1"
  }
 },
 "nbformat": 4,
 "nbformat_minor": 5
}
